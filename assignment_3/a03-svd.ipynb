{
 "cells": [
  {
   "cell_type": "code",
   "execution_count": null,
   "id": "37fba92c",
   "metadata": {
    "collapsed": false
   },
   "outputs": [],
   "source": [
    "import numpy as np\n",
    "from numpy.linalg import svd, matrix_rank\n",
    "import pandas as pd\n",
    "import matplotlib.pyplot as plt\n",
    "from IPython import get_ipython\n",
    "from util import (\n",
    "    svdcomp,\n",
    "    nextplot,\n",
    "    plot_matrix,\n",
    "    plot_xy,\n",
    "    plot_cov,\n",
    "    match_categories,\n",
    ")  # see util.py\n",
    "from sklearn.cluster import KMeans\n",
    "\n",
    "# setup plotting\n",
    "import psutil\n",
    "inTerminal = not \"IPKernelApp\" in get_ipython().config\n",
    "inJupyterNb = any(filter(lambda x: x.endswith(\"jupyter-notebook\"), psutil.Process().parent().cmdline()))\n",
    "inJupyterLab = any(filter(lambda x: x.endswith(\"jupyter-lab\"), psutil.Process().parent().cmdline()))\n",
    "if not inJupyterLab:\n",
    "    from IPython import get_ipython\n",
    "    get_ipython().run_line_magic(\"matplotlib\", \"\" if inTerminal else \"notebook\" if inJupyterNb else \"widget\")"
   ]
  },
  {
   "cell_type": "markdown",
   "id": "5a9cc66d",
   "metadata": {},
   "source": [
    "# 1 Intuition on SVD"
   ]
  },
  {
   "cell_type": "code",
   "execution_count": null,
   "id": "d6d29e9e",
   "metadata": {
    "collapsed": false
   },
   "outputs": [],
   "source": [
    "M1 = np.array(\n",
    "    [\n",
    "        [1, 1, 1, 0, 0],\n",
    "        [1, 1, 1, 0, 0],\n",
    "        [1, 1, 1, 0, 0],\n",
    "        [0, 0, 0, 0, 0],\n",
    "        [0, 0, 0, 0, 0],\n",
    "    ]\n",
    ")\n",
    "\n",
    "M2 = np.array(\n",
    "    [\n",
    "        [0, 0, 0, 0, 0],\n",
    "        [0, 2, 1, 2, 0],\n",
    "        [0, 2, 1, 2, 0],\n",
    "        [0, 2, 1, 2, 0],\n",
    "        [0, 0, 0, 0, 0],\n",
    "    ]\n",
    ")\n",
    "\n",
    "M3 = np.array([[0, 0, 0, 0], [0, 1, 1, 1], [0, 1, 1, 1], [0, 1, 1, 1], [0, 1, 1, 1]])\n",
    "\n",
    "M4 = np.array(\n",
    "    [\n",
    "        [1, 1, 1, 0, 0],\n",
    "        [1, 1, 1, 0, 0],\n",
    "        [1, 1, 1, 0, 0],\n",
    "        [0, 0, 0, 1, 1],\n",
    "        [0, 0, 0, 1, 1],\n",
    "    ]\n",
    ")\n",
    "\n",
    "M5 = np.array(\n",
    "    [\n",
    "        [1, 1, 1, 0, 0],\n",
    "        [1, 1, 1, 0, 0],\n",
    "        [1, 1, 1, 1, 1],\n",
    "        [0, 0, 1, 1, 1],\n",
    "        [0, 0, 1, 1, 1],\n",
    "    ]\n",
    ")\n",
    "\n",
    "M6 = np.array(\n",
    "    [\n",
    "        [1, 1, 1, 1, 1],\n",
    "        [1, 1, 1, 1, 1],\n",
    "        [1, 1, 0, 1, 1],\n",
    "        [1, 1, 1, 1, 1],\n",
    "        [1, 1, 1, 1, 1],\n",
    "    ]\n",
    ")"
   ]
  },
  {
   "cell_type": "markdown",
   "id": "65cefde2",
   "metadata": {},
   "source": [
    "## 1b"
   ]
  },
  {
   "cell_type": "code",
   "execution_count": null,
   "id": "61107037",
   "metadata": {
    "collapsed": false
   },
   "outputs": [],
   "source": [
    "# YOUR PART"
   ]
  },
  {
   "cell_type": "markdown",
   "id": "fadf51a6",
   "metadata": {},
   "source": [
    "## 1c"
   ]
  },
  {
   "cell_type": "code",
   "execution_count": null,
   "id": "ded47d33",
   "metadata": {
    "collapsed": false
   },
   "outputs": [],
   "source": [
    "# You can use the functions svdcomp and plot_matrix from util.py\n",
    "# YOUR PART"
   ]
  },
  {
   "cell_type": "markdown",
   "id": "0e70c7ac",
   "metadata": {},
   "source": [
    "## 1d"
   ]
  },
  {
   "cell_type": "code",
   "execution_count": null,
   "id": "94ad06c4",
   "metadata": {
    "collapsed": false
   },
   "outputs": [],
   "source": [
    "# Another method to compute the rank is matrix_rank.\n",
    "# YOUR PART"
   ]
  },
  {
   "cell_type": "markdown",
   "id": "82bc6b9e",
   "metadata": {},
   "source": [
    "# 2 The SVD on Weather Data"
   ]
  },
  {
   "cell_type": "code",
   "execution_count": null,
   "id": "9de809fe",
   "metadata": {
    "collapsed": false
   },
   "outputs": [],
   "source": [
    "# Load the data\n",
    "climate = pd.read_csv(\"data/worldclim.csv\")\n",
    "coord = pd.read_csv(\"data/worldclim_coordinates.csv\")\n",
    "lon = coord[\"lon\"]\n",
    "lat = coord[\"lat\"]"
   ]
  },
  {
   "cell_type": "code",
   "execution_count": null,
   "id": "f9929c28",
   "metadata": {
    "collapsed": false
   },
   "outputs": [],
   "source": [
    "# Plot the coordinates\n",
    "plot_xy(lon, lat)"
   ]
  },
  {
   "cell_type": "markdown",
   "id": "65290054",
   "metadata": {},
   "source": [
    "## 2a"
   ]
  },
  {
   "cell_type": "code",
   "execution_count": null,
   "id": "91f703a7",
   "metadata": {
    "collapsed": false
   },
   "outputs": [],
   "source": [
    "# YOUR PART\n",
    "# Normalize the data to z-scores. Store the result in X."
   ]
  },
  {
   "cell_type": "code",
   "execution_count": null,
   "id": "97d0199c",
   "metadata": {
    "collapsed": false
   },
   "outputs": [],
   "source": [
    "# Plot histograms of attributes\n",
    "nextplot()\n",
    "X.hist(ax=plt.gca())"
   ]
  },
  {
   "cell_type": "markdown",
   "id": "85aa4551",
   "metadata": {},
   "source": [
    "## 2b"
   ]
  },
  {
   "cell_type": "code",
   "execution_count": null,
   "id": "48f01405",
   "metadata": {
    "collapsed": false
   },
   "outputs": [],
   "source": [
    "# Compute the SVD of the normalized climate data and store it in variables U,s,Vt. What\n",
    "# is the rank of the data?\n",
    "# YOUR PART"
   ]
  },
  {
   "cell_type": "markdown",
   "id": "17425cc6",
   "metadata": {},
   "source": [
    "## 2c"
   ]
  },
  {
   "cell_type": "code",
   "execution_count": null,
   "id": "73ca2226",
   "metadata": {
    "collapsed": false
   },
   "outputs": [],
   "source": [
    "# Here is an example plot.\n",
    "plot_xy(lon, lat, U[:, 0])"
   ]
  },
  {
   "cell_type": "code",
   "execution_count": null,
   "id": "4b78ddcf",
   "metadata": {
    "collapsed": false
   },
   "outputs": [],
   "source": [
    "# For interpretation, it may also help to look at the other component matrices and\n",
    "# perhaps use other plot functions (e.g., plot_matrix).\n",
    "# YOUR PART"
   ]
  },
  {
   "cell_type": "markdown",
   "id": "a41779ea",
   "metadata": {},
   "source": [
    "## 2d"
   ]
  },
  {
   "cell_type": "code",
   "execution_count": null,
   "id": "3970c0c9",
   "metadata": {
    "collapsed": false
   },
   "outputs": [],
   "source": [
    "# Here is an example.\n",
    "plot_xy(U[:, 0], U[:, 1], lat - np.mean(lat))"
   ]
  },
  {
   "cell_type": "markdown",
   "id": "3aa41dd7",
   "metadata": {},
   "source": [
    "## 2e"
   ]
  },
  {
   "cell_type": "code",
   "execution_count": null,
   "id": "756efa68",
   "metadata": {
    "collapsed": false
   },
   "outputs": [],
   "source": [
    "# 2e(i) Guttman-Kaiser\n",
    "# YOUR PART"
   ]
  },
  {
   "cell_type": "code",
   "execution_count": null,
   "id": "aad2e425",
   "metadata": {
    "collapsed": false
   },
   "outputs": [],
   "source": [
    "# 2e(ii) 90% squared Frobenius norm\n",
    "# YOUR PART"
   ]
  },
  {
   "cell_type": "code",
   "execution_count": null,
   "id": "47afa659",
   "metadata": {
    "collapsed": false
   },
   "outputs": [],
   "source": [
    "# 2e(iv) entropy\n",
    "# YOUR PART"
   ]
  },
  {
   "cell_type": "code",
   "execution_count": null,
   "id": "a305e12c",
   "metadata": {
    "collapsed": false
   },
   "outputs": [],
   "source": [
    "# 2e(v) random flips\n",
    "# Random sign matrix: np.random.choice([-1,1], X.shape)\n",
    "# YOUR PART"
   ]
  },
  {
   "cell_type": "markdown",
   "id": "1dcb9c6e",
   "metadata": {},
   "source": [
    "## 2f"
   ]
  },
  {
   "cell_type": "code",
   "execution_count": null,
   "id": "66a10943",
   "metadata": {
    "collapsed": false
   },
   "outputs": [],
   "source": [
    "# Here is the empty plot that you need to fill (one line per choice of k: RSME between\n",
    "# original X and the reconstruction from size-k SVD of noisy versions)\n",
    "# YOUR PART\n",
    "nextplot()\n",
    "plt.plot()\n",
    "plt.xlabel(r\"Noise level ($\\epsilon$)\")\n",
    "plt.ylabel(\"Reconstruction RMSE vs. original data\")"
   ]
  },
  {
   "cell_type": "markdown",
   "id": "7cf29bb8",
   "metadata": {},
   "source": [
    "# 3 SVD and k-means"
   ]
  },
  {
   "cell_type": "code",
   "execution_count": null,
   "id": "c348de0e",
   "metadata": {
    "collapsed": false
   },
   "outputs": [],
   "source": [
    "# Cluster the normalized climate data into 5 clusters using k-means and store\n",
    "# the vector giving the cluster labels for each location.\n",
    "X_clusters = KMeans(5).fit(X).labels_"
   ]
  },
  {
   "cell_type": "markdown",
   "id": "de47161c",
   "metadata": {},
   "source": [
    "## 3a"
   ]
  },
  {
   "cell_type": "code",
   "execution_count": null,
   "id": "0ab6128a",
   "metadata": {
    "collapsed": false
   },
   "outputs": [],
   "source": [
    "# Plot the results to the map: use the cluster labels to give the color to each\n",
    "# point.\n",
    "plot_xy(lon, lat, X_clusters)"
   ]
  },
  {
   "cell_type": "markdown",
   "id": "f3a0f5e2",
   "metadata": {},
   "source": [
    "## 3b"
   ]
  },
  {
   "cell_type": "code",
   "execution_count": null,
   "id": "fcb4253f",
   "metadata": {
    "collapsed": false
   },
   "outputs": [],
   "source": [
    "# YOUR PART HERE"
   ]
  },
  {
   "cell_type": "markdown",
   "id": "f7f2a052",
   "metadata": {},
   "source": [
    "## 3c"
   ]
  },
  {
   "cell_type": "code",
   "execution_count": null,
   "id": "a38948ce",
   "metadata": {
    "collapsed": false
   },
   "outputs": [],
   "source": [
    "# Compute the PCA scores, store in Z (of shape N x k)\n",
    "k = 2\n",
    "# YOUR PART HERE"
   ]
  },
  {
   "cell_type": "code",
   "execution_count": null,
   "id": "0fa7e133",
   "metadata": {
    "collapsed": false
   },
   "outputs": [],
   "source": [
    "# cluster and visualize\n",
    "Z_clusters = KMeans(5).fit(Z).labels_\n",
    "# match clusters as well as possible (try without)\n",
    "Z_clusters = match_categories(X_clusters, Z_clusters)\n",
    "nextplot()\n",
    "axs = plt.gcf().subplots(1, 2)\n",
    "plot_xy(lon, lat, X_clusters, axis=axs[0])\n",
    "axs[0].set_title(\"Original data\")\n",
    "plot_xy(lon, lat, Z_clusters, axis=axs[1])\n",
    "axs[1].set_title(f\"PCA $(k={k}$)\")"
   ]
  }
 ],
 "metadata": {},
 "nbformat": 4,
 "nbformat_minor": 5
}
